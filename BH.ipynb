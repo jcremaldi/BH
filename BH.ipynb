{
 "cells": [
  {
   "cell_type": "markdown",
   "metadata": {},
   "source": []
  },
  {
   "cell_type": "code",
   "execution_count": 1,
   "metadata": {},
   "outputs": [],
   "source": [
    "import pandas as pd\n",
    "from pandas import read_csv\n",
    "from pandas import datetime\n",
    "import matplotlib.pyplot as plt\n",
    "import seaborn as sns\n",
    "import spacy\n",
    "import numpy as np\n",
    "import statsmodels.api as sm\n",
    "from statsmodels.tsa.arima_model import ARIMA\n",
    "from statsmodels.tsa.stattools import adfuller\n",
    "from sklearn.metrics import mean_squared_error\n",
    "from sklearn import metrics\n",
    "from sklearn.ensemble import RandomForestClassifier\n",
    "from sklearn.linear_model import LogisticRegression\n",
    "from sklearn.svm import SVC\n",
    "from sklearn.decomposition import LatentDirichletAllocation\n",
    "from sklearn.model_selection import train_test_split\n",
    "from sklearn import preprocessing\n",
    "from sklearn.metrics import classification_report, confusion_matrix, accuracy_score\n",
    "from sklearn.feature_extraction.text import CountVectorizer  \n",
    "from sklearn.feature_extraction.text import TfidfVectorizer\n",
    "from sklearn import model_selection\n",
    "import re  \n",
    "import en_core_web_sm\n",
    "import nltk  \n",
    "from nltk.corpus import stopwords\n",
    "from nltk.stem import WordNetLemmatizer\n",
    "from scipy import stats\n",
    "from scipy.stats import normaltest\n",
    "import warnings\n",
    "\n",
    "stop_words = stopwords.words('english')\n",
    "nlp = en_core_web_sm.load(disable=['parser', 'ner'])"
   ]
  },
  {
   "attachments": {
    "image.png": {
     "image/png": "[encoded data removed]"
    }
   },
   "cell_type": "markdown",
   "metadata": {},
   "source": [
    "# P1\n",
    "\n",
    "Construct a predictive model for the continues data recorded in the following CSV file. Document and explain your solution and approach.\n",
    "\n",
    "![image.png](attachment:image.png)"
   ]
  },
  {
   "cell_type": "code",
   "execution_count": 2,
   "metadata": {},
   "outputs": [],
   "source": [
    "# function to test a dataset for stationary (from kaggle)\n",
    "def test_stationarity(timeseries, window = 12, cutoff = 0.01):\n",
    "    #Determing rolling statistics\n",
    "    rolmean = timeseries.rolling(window).mean()\n",
    "    rolstd = timeseries.rolling(window).std()\n",
    "\n",
    "    #Plot rolling statistics:\n",
    "    fig = plt.figure(figsize=(12, 8))\n",
    "    orig = plt.plot(timeseries, color='blue',label='Original')\n",
    "    mean = plt.plot(rolmean, color='red', label='Rolling Mean')\n",
    "    std = plt.plot(rolstd, color='black', label = 'Rolling Std')\n",
    "    plt.legend(loc='best')\n",
    "    plt.title('Rolling Mean & Standard Deviation')\n",
    "    plt.show()\n",
    "    \n",
    "    #Perform Dickey-Fuller test:\n",
    "    print('Results of Dickey-Fuller Test:')\n",
    "    dftest = adfuller(timeseries, autolag='AIC', maxlag = 20 )\n",
    "    dfoutput = pd.Series(dftest[0:4], index=['Test Statistic','p-value','#Lags Used','Number of Observations Used'])\n",
    "    for key,value in dftest[4].items():\n",
    "        dfoutput['Critical Value (%s)'%key] = value\n",
    "    pvalue = dftest[1]\n",
    "    if pvalue < cutoff:\n",
    "        print('p-value = %.4f. The series is likely stationary.' % pvalue)\n",
    "    else:\n",
    "        print('p-value = %.4f. The series is likely non-stationary.' % pvalue)\n",
    "    \n",
    "    print(dfoutput)\n",
    "    \n",
    "def evaluate_arima_model(X, arima_order):\n",
    "    # prepare training dataset\n",
    "    train_size = int(len(X) * 0.75)\n",
    "    train, test = X[0:train_size], X[train_size:]\n",
    "    history = [x for x in train]\n",
    "    # make predictions\n",
    "    predictions = list()\n",
    "    for t in range(len(test)):\n",
    "        model = ARIMA(history, order=arima_order)\n",
    "        model_fit = model.fit(disp=0)\n",
    "        yhat = model_fit.forecast()[0]\n",
    "        predictions.append(yhat)\n",
    "        history.append(test[t])\n",
    "    # calculate out of sample error\n",
    "    error = mean_squared_error(test, predictions)\n",
    "    return error\n",
    "\n",
    "# function to evaluate combinations of p, d and q values for an ARIMA model\n",
    "def evaluate_models(dataset, p_values, d_values, q_values):\n",
    "    dataset = dataset.astype('float32')\n",
    "    best_score, best_cfg = float(\"inf\"), None\n",
    "    for p in p_values:\n",
    "        for d in d_values:\n",
    "            for q in q_values:\n",
    "                order = (p,d,q)\n",
    "                try:\n",
    "                    mse = evaluate_arima_model(dataset, order)\n",
    "                    if mse < best_score:\n",
    "                        best_score, best_cfg = mse, order\n",
    "                    print('ARIMA%s MSE=%.3f' % (order,mse))\n",
    "                except:\n",
    "                    continue\n",
    "    print('Best ARIMA%s MSE=%.3f' % (best_cfg, best_score))"
   ]
  },
  {
   "cell_type": "markdown",
   "metadata": {},
   "source": [
    "### Data Exploration and Prep\n",
    "\n",
    "Continuous time series data with no visible outliers. \n",
    "\n",
    "Data prep:\n",
    "\n",
    "- check for missing dates\n",
    "- convert to datetime\n",
    "- check for missing data\n",
    "- remove \"value:\" and convert the target to a quantity"
   ]
  },
  {
   "cell_type": "code",
   "execution_count": 3,
   "metadata": {},
   "outputs": [
    {
     "data": {
      "text/html": [
       "<div>\n",
       "<style scoped>\n",
       "    .dataframe tbody tr th:only-of-type {\n",
       "        vertical-align: middle;\n",
       "    }\n",
       "\n",
       "    .dataframe tbody tr th {\n",
       "        vertical-align: top;\n",
       "    }\n",
       "\n",
       "    .dataframe thead th {\n",
       "        text-align: right;\n",
       "    }\n",
       "</style>\n",
       "<table border=\"1\" class=\"dataframe\">\n",
       "  <thead>\n",
       "    <tr style=\"text-align: right;\">\n",
       "      <th></th>\n",
       "      <th>DATE</th>\n",
       "      <th>Variable_of Interest</th>\n",
       "    </tr>\n",
       "  </thead>\n",
       "  <tbody>\n",
       "    <tr>\n",
       "      <th>0</th>\n",
       "      <td>2019-01-01</td>\n",
       "      <td>value: -2.13</td>\n",
       "    </tr>\n",
       "    <tr>\n",
       "      <th>1</th>\n",
       "      <td>2019-01-02</td>\n",
       "      <td>value: -1.84</td>\n",
       "    </tr>\n",
       "    <tr>\n",
       "      <th>2</th>\n",
       "      <td>2019-01-03</td>\n",
       "      <td>value: -1.19</td>\n",
       "    </tr>\n",
       "    <tr>\n",
       "      <th>3</th>\n",
       "      <td>2019-01-04</td>\n",
       "      <td>value: -0.28</td>\n",
       "    </tr>\n",
       "    <tr>\n",
       "      <th>4</th>\n",
       "      <td>2019-01-05</td>\n",
       "      <td>value: 0.93</td>\n",
       "    </tr>\n",
       "  </tbody>\n",
       "</table>\n",
       "</div>"
      ],
      "text/plain": [
       "        DATE Variable_of Interest\n",
       "0 2019-01-01         value: -2.13\n",
       "1 2019-01-02         value: -1.84\n",
       "2 2019-01-03         value: -1.19\n",
       "3 2019-01-04         value: -0.28\n",
       "4 2019-01-05          value: 0.93"
      ]
     },
     "execution_count": 3,
     "metadata": {},
     "output_type": "execute_result"
    }
   ],
   "source": [
    "p1_raw_data = pd.read_excel('P1.xlsx')\n",
    "p1_raw_data.head()"
   ]
  },
  {
   "cell_type": "code",
   "execution_count": 4,
   "metadata": {},
   "outputs": [
    {
     "data": {
      "text/html": [
       "<div>\n",
       "<style scoped>\n",
       "    .dataframe tbody tr th:only-of-type {\n",
       "        vertical-align: middle;\n",
       "    }\n",
       "\n",
       "    .dataframe tbody tr th {\n",
       "        vertical-align: top;\n",
       "    }\n",
       "\n",
       "    .dataframe thead th {\n",
       "        text-align: right;\n",
       "    }\n",
       "</style>\n",
       "<table border=\"1\" class=\"dataframe\">\n",
       "  <thead>\n",
       "    <tr style=\"text-align: right;\">\n",
       "      <th></th>\n",
       "      <th>DATE</th>\n",
       "      <th>Variable_of Interest</th>\n",
       "    </tr>\n",
       "  </thead>\n",
       "  <tbody>\n",
       "    <tr>\n",
       "      <th>195</th>\n",
       "      <td>2019-07-15</td>\n",
       "      <td>value: -2.87</td>\n",
       "    </tr>\n",
       "    <tr>\n",
       "      <th>196</th>\n",
       "      <td>2019-07-16</td>\n",
       "      <td>value: -3.55</td>\n",
       "    </tr>\n",
       "    <tr>\n",
       "      <th>197</th>\n",
       "      <td>2019-07-17</td>\n",
       "      <td>value: -3.18</td>\n",
       "    </tr>\n",
       "    <tr>\n",
       "      <th>198</th>\n",
       "      <td>2019-07-18</td>\n",
       "      <td>value: -2.37</td>\n",
       "    </tr>\n",
       "    <tr>\n",
       "      <th>199</th>\n",
       "      <td>2019-07-19</td>\n",
       "      <td>value: -2.32</td>\n",
       "    </tr>\n",
       "  </tbody>\n",
       "</table>\n",
       "</div>"
      ],
      "text/plain": [
       "          DATE Variable_of Interest\n",
       "195 2019-07-15         value: -2.87\n",
       "196 2019-07-16         value: -3.55\n",
       "197 2019-07-17         value: -3.18\n",
       "198 2019-07-18         value: -2.37\n",
       "199 2019-07-19         value: -2.32"
      ]
     },
     "execution_count": 4,
     "metadata": {},
     "output_type": "execute_result"
    }
   ],
   "source": [
    "p1_raw_data.tail()"
   ]
  },
  {
   "cell_type": "code",
   "execution_count": null,
   "metadata": {},
   "outputs": [
    {
     "data": {
      "text/plain": [
       "0"
      ]
     },
     "execution_count": 5,
     "metadata": {},
     "output_type": "execute_result"
    }
   ],
   "source": [
    "# check to see if there are any missing dates between the head and tail we just looked at\n",
    "p1_raw_data['DATE'] = pd.to_datetime(p1_raw_data['DATE'])\n",
    "len(list(pd.date_range(start = '2019-01-01', end = '2019-07-19' ).difference(p1_raw_data['DATE'])))"
   ]
  },
  {
   "cell_type": "code",
   "execution_count": null,
   "metadata": {},
   "outputs": [
    {
     "data": {
      "text/html": [
       "<div>\n",
       "<style scoped>\n",
       "    .dataframe tbody tr th:only-of-type {\n",
       "        vertical-align: middle;\n",
       "    }\n",
       "\n",
       "    .dataframe tbody tr th {\n",
       "        vertical-align: top;\n",
       "    }\n",
       "\n",
       "    .dataframe thead th {\n",
       "        text-align: right;\n",
       "    }\n",
       "</style>\n",
       "<table border=\"1\" class=\"dataframe\">\n",
       "  <thead>\n",
       "    <tr style=\"text-align: right;\">\n",
       "      <th></th>\n",
       "      <th>DATE</th>\n",
       "      <th>Variable_of Interest</th>\n",
       "    </tr>\n",
       "  </thead>\n",
       "  <tbody>\n",
       "    <tr>\n",
       "      <th>0</th>\n",
       "      <td>2019-01-01</td>\n",
       "      <td>-2.13</td>\n",
       "    </tr>\n",
       "    <tr>\n",
       "      <th>1</th>\n",
       "      <td>2019-01-02</td>\n",
       "      <td>-1.84</td>\n",
       "    </tr>\n",
       "    <tr>\n",
       "      <th>2</th>\n",
       "      <td>2019-01-03</td>\n",
       "      <td>-1.19</td>\n",
       "    </tr>\n",
       "    <tr>\n",
       "      <th>3</th>\n",
       "      <td>2019-01-04</td>\n",
       "      <td>-0.28</td>\n",
       "    </tr>\n",
       "    <tr>\n",
       "      <th>4</th>\n",
       "      <td>2019-01-05</td>\n",
       "      <td>0.93</td>\n",
       "    </tr>\n",
       "  </tbody>\n",
       "</table>\n",
       "</div>"
      ],
      "text/plain": [
       "        DATE  Variable_of Interest\n",
       "0 2019-01-01                 -2.13\n",
       "1 2019-01-02                 -1.84\n",
       "2 2019-01-03                 -1.19\n",
       "3 2019-01-04                 -0.28\n",
       "4 2019-01-05                  0.93"
      ]
     },
     "execution_count": 6,
     "metadata": {},
     "output_type": "execute_result"
    }
   ],
   "source": [
    "# strip the text from the data to leave just the quantities\n",
    "p1_raw_data['Variable_of Interest'] = p1_raw_data['Variable_of Interest'].map(lambda x: x.lstrip('value: ')).astype(float)\n",
    "p1_raw_data.head()"
   ]
  },
  {
   "cell_type": "code",
   "execution_count": null,
   "metadata": {},
   "outputs": [
    {
     "data": {
      "text/html": [
       "<div>\n",
       "<style scoped>\n",
       "    .dataframe tbody tr th:only-of-type {\n",
       "        vertical-align: middle;\n",
       "    }\n",
       "\n",
       "    .dataframe tbody tr th {\n",
       "        vertical-align: top;\n",
       "    }\n",
       "\n",
       "    .dataframe thead th {\n",
       "        text-align: right;\n",
       "    }\n",
       "</style>\n",
       "<table border=\"1\" class=\"dataframe\">\n",
       "  <thead>\n",
       "    <tr style=\"text-align: right;\">\n",
       "      <th></th>\n",
       "      <th>Variable_of Interest</th>\n",
       "    </tr>\n",
       "    <tr>\n",
       "      <th>DATE</th>\n",
       "      <th></th>\n",
       "    </tr>\n",
       "  </thead>\n",
       "  <tbody>\n",
       "    <tr>\n",
       "      <th>2019-01-01</th>\n",
       "      <td>-2.13</td>\n",
       "    </tr>\n",
       "    <tr>\n",
       "      <th>2019-01-02</th>\n",
       "      <td>-1.84</td>\n",
       "    </tr>\n",
       "    <tr>\n",
       "      <th>2019-01-03</th>\n",
       "      <td>-1.19</td>\n",
       "    </tr>\n",
       "    <tr>\n",
       "      <th>2019-01-04</th>\n",
       "      <td>-0.28</td>\n",
       "    </tr>\n",
       "    <tr>\n",
       "      <th>2019-01-05</th>\n",
       "      <td>0.93</td>\n",
       "    </tr>\n",
       "  </tbody>\n",
       "</table>\n",
       "</div>"
      ],
      "text/plain": [
       "            Variable_of Interest\n",
       "DATE                            \n",
       "2019-01-01                 -2.13\n",
       "2019-01-02                 -1.84\n",
       "2019-01-03                 -1.19\n",
       "2019-01-04                 -0.28\n",
       "2019-01-05                  0.93"
      ]
     },
     "execution_count": 7,
     "metadata": {},
     "output_type": "execute_result"
    }
   ],
   "source": [
    "p1_raw_data = p1_raw_data.set_index('DATE', drop = True)\n",
    "p1_raw_data.head()"
   ]
  },
  {
   "cell_type": "code",
   "execution_count": null,
   "metadata": {},
   "outputs": [
    {
     "data": {
      "image/png": "[encoded data removed]",
      "text/plain": [
       "<Figure size 432x288 with 1 Axes>"
      ]
     },
     "metadata": {
      "needs_background": "light"
     },
     "output_type": "display_data"
    }
   ],
   "source": [
    "# sanity check that data looks the same\n",
    "p1_raw_data.plot()\n",
    "plt.show()"
   ]
  },
  {
   "cell_type": "markdown",
   "metadata": {},
   "source": [
    "### ARIMA"
   ]
  },
  {
   "cell_type": "code",
   "execution_count": null,
   "metadata": {},
   "outputs": [
    {
     "data": {
      "image/png": "[encoded data removed]",
      "text/plain": [
       "<Figure size 864x576 with 1 Axes>"
      ]
     },
     "metadata": {
      "needs_background": "light"
     },
     "output_type": "display_data"
    },
    {
     "name": "stdout",
     "output_type": "stream",
     "text": [
      "Results of Dickey-Fuller Test:\n",
      "p-value = 0.0000. The series is likely stationary.\n",
      "Test Statistic                  -5.185360\n",
      "p-value                          0.000009\n",
      "#Lags Used                      10.000000\n",
      "Number of Observations Used    189.000000\n",
      "Critical Value (1%)             -3.465431\n",
      "Critical Value (5%)             -2.876957\n",
      "Critical Value (10%)            -2.574988\n",
      "dtype: float64\n"
     ]
    }
   ],
   "source": [
    "# Determine if the series is stationary using Dickey-Fuller Test\n",
    "test_stationarity(p1_raw_data['Variable_of Interest'])"
   ]
  },
  {
   "cell_type": "code",
   "execution_count": null,
   "metadata": {},
   "outputs": [
    {
     "name": "stderr",
     "output_type": "stream",
     "text": [
      "C:\\ProgramData\\Anaconda3\\lib\\site-packages\\statsmodels\\regression\\linear_model.py:1406: RuntimeWarning: invalid value encountered in sqrt\n",
      "  return rho, np.sqrt(sigmasq)\n"
     ]
    },
    {
     "data": {
      "image/png": "[encoded data removed]",
      "text/plain": [
       "<Figure size 864x576 with 2 Axes>"
      ]
     },
     "metadata": {
      "needs_background": "light"
     },
     "output_type": "display_data"
    }
   ],
   "source": [
    "# check the AC and PAC charts to try and get initial estimates on the ARIMA variables\n",
    "fig = plt.figure(figsize=(12,8))\n",
    "ax1 = fig.add_subplot(211)\n",
    "fig = sm.graphics.tsa.plot_acf(p1_raw_data['Variable_of Interest'], lags=40, ax=ax1)\n",
    "ax2 = fig.add_subplot(212)\n",
    "fig = sm.graphics.tsa.plot_pacf(p1_raw_data['Variable_of Interest'], lags = 40, ax=ax2)"
   ]
  },
  {
   "cell_type": "markdown",
   "metadata": {},
   "source": [
    "### Use initial estimates of p,d,q parameters to perform a grid search and minimize MSE"
   ]
  },
  {
   "cell_type": "code",
   "execution_count": null,
   "metadata": {},
   "outputs": [
    {
     "name": "stdout",
     "output_type": "stream",
     "text": [
      "ARIMA(0, 0, 0) MSE=32.276\n",
      "ARIMA(0, 0, 1) MSE=9.653\n",
      "ARIMA(0, 0, 2) MSE=6.010\n",
      "ARIMA(0, 1, 0) MSE=0.612\n",
      "ARIMA(0, 1, 1) MSE=0.603\n",
      "ARIMA(0, 1, 2) MSE=0.525\n",
      "ARIMA(0, 1, 3) MSE=0.464\n",
      "ARIMA(0, 2, 0) MSE=1.433\n",
      "ARIMA(0, 2, 1) MSE=0.598\n",
      "ARIMA(0, 2, 2) MSE=0.487\n",
      "ARIMA(0, 2, 3) MSE=0.498\n",
      "ARIMA(1, 0, 0) MSE=0.585\n",
      "ARIMA(1, 1, 0) MSE=0.599\n",
      "ARIMA(1, 1, 1) MSE=0.578\n",
      "ARIMA(1, 1, 2) MSE=0.477\n",
      "ARIMA(1, 1, 3) MSE=0.490\n",
      "ARIMA(1, 2, 0) MSE=0.854\n",
      "ARIMA(1, 2, 3) MSE=0.379\n",
      "ARIMA(2, 0, 0) MSE=0.566\n",
      "ARIMA(2, 0, 2) MSE=0.383\n",
      "ARIMA(2, 0, 3) MSE=0.374\n",
      "ARIMA(2, 1, 0) MSE=0.592\n",
      "ARIMA(2, 1, 2) MSE=0.507\n",
      "ARIMA(2, 1, 3) MSE=0.334\n",
      "ARIMA(2, 2, 0) MSE=0.428\n",
      "ARIMA(2, 2, 1) MSE=0.417\n",
      "ARIMA(2, 2, 3) MSE=0.515\n",
      "ARIMA(4, 0, 0) MSE=0.387\n",
      "ARIMA(4, 1, 0) MSE=0.407\n",
      "ARIMA(4, 2, 0) MSE=0.420\n",
      "ARIMA(4, 2, 1) MSE=0.439\n",
      "ARIMA(4, 2, 2) MSE=0.357\n",
      "ARIMA(4, 2, 3) MSE=0.346\n",
      "ARIMA(6, 0, 0) MSE=0.366\n",
      "ARIMA(6, 0, 1) MSE=0.352\n",
      "ARIMA(6, 1, 0) MSE=0.413\n",
      "ARIMA(6, 1, 1) MSE=0.432\n",
      "ARIMA(6, 2, 0) MSE=0.430\n",
      "ARIMA(6, 2, 1) MSE=0.444\n",
      "ARIMA(8, 0, 1) MSE=0.360\n",
      "ARIMA(8, 1, 0) MSE=0.440\n",
      "ARIMA(8, 1, 1) MSE=0.439\n",
      "ARIMA(8, 1, 2) MSE=0.440\n",
      "ARIMA(8, 2, 0) MSE=0.450\n",
      "ARIMA(10, 0, 1) MSE=0.368\n",
      "ARIMA(10, 0, 2) MSE=0.337\n",
      "ARIMA(10, 1, 0) MSE=0.443\n",
      "ARIMA(10, 1, 1) MSE=0.458\n",
      "ARIMA(10, 1, 2) MSE=0.414\n",
      "ARIMA(10, 2, 0) MSE=0.451\n",
      "ARIMA(10, 2, 1) MSE=0.442\n",
      "ARIMA(12, 0, 1) MSE=0.370\n",
      "ARIMA(12, 0, 2) MSE=0.410\n"
     ]
    }
   ],
   "source": [
    "# evaluate parameters\n",
    "p_values = [0, 1, 2, 4, 6, 8, 10, 12]\n",
    "d_values = range(0, 3)\n",
    "q_values = range(0, 4)\n",
    "warnings.filterwarnings(\"ignore\")\n",
    "\n",
    "# test/train split in the function\n",
    "# results in  next cell, blocked out due to run speed\n",
    "evaluate_models(p1_raw_data['Variable_of Interest'], p_values, d_values, q_values)"
   ]
  },
  {
   "cell_type": "markdown",
   "metadata": {},
   "source": [
    "- ARIMA(0, 0, 0) MSE=32.276\n",
    "- ARIMA(0, 0, 1) MSE=9.653\n",
    "- ARIMA(0, 0, 2) MSE=6.010\n",
    "- ARIMA(0, 1, 0) MSE=0.612\n",
    "- ARIMA(0, 1, 1) MSE=0.603\n",
    "- ARIMA(0, 1, 2) MSE=0.525\n",
    "- ARIMA(0, 2, 0) MSE=1.433\n",
    "- ARIMA(0, 2, 1) MSE=0.598\n",
    "- ARIMA(0, 2, 2) MSE=0.487\n",
    "- ARIMA(1, 0, 0) MSE=0.585\n",
    "- ARIMA(1, 1, 0) MSE=0.599\n",
    "- ARIMA(1, 1, 1) MSE=0.578\n",
    "- ARIMA(1, 1, 2) MSE=0.477\n",
    "- ARIMA(1, 2, 0) MSE=0.854\n",
    "- ARIMA(2, 0, 0) MSE=0.566\n",
    "- ARIMA(2, 0, 2) MSE=0.383\n",
    "- ARIMA(2, 1, 0) MSE=0.592\n",
    "- ARIMA(2, 1, 2) MSE=0.507\n",
    "- ARIMA(2, 2, 0) MSE=0.428\n",
    "- ARIMA(2, 2, 1) MSE=0.417\n",
    "- ARIMA(4, 0, 0) MSE=0.387\n",
    "- ARIMA(4, 1, 0) MSE=0.407\n",
    "- ARIMA(4, 2, 0) MSE=0.420\n",
    "- ARIMA(4, 2, 1) MSE=0.439\n",
    "- ARIMA(4, 2, 2) MSE=0.357\n",
    "- ARIMA(6, 0, 0) MSE=0.366\n",
    "- ARIMA(6, 0, 1) MSE=0.352\n",
    "- ARIMA(6, 1, 0) MSE=0.413\n",
    "- ARIMA(6, 1, 1) MSE=0.432\n",
    "- ARIMA(6, 2, 0) MSE=0.430\n",
    "- ARIMA(6, 2, 1) MSE=0.444\n",
    "- ARIMA(8, 0, 1) MSE=0.360\n",
    "- ARIMA(8, 1, 0) MSE=0.440\n",
    "- ARIMA(8, 1, 1) MSE=0.439\n",
    "- ARIMA(8, 1, 2) MSE=0.440\n",
    "- ARIMA(8, 2, 0) MSE=0.450\n",
    "- ARIMA(10, 0, 1) MSE=0.368\n",
    "- ARIMA(10, 0, 2) MSE=0.337\n",
    "- ARIMA(10, 1, 0) MSE=0.443\n",
    "- ARIMA(10, 1, 1) MSE=0.458\n",
    "- ARIMA(10, 1, 2) MSE=0.414\n",
    "- ARIMA(10, 2, 0) MSE=0.451\n",
    "- ARIMA(10, 2, 1) MSE=0.442\n",
    "- Best ARIMA(10, 0, 2) MSE=0.337"
   ]
  },
  {
   "cell_type": "code",
   "execution_count": null,
   "metadata": {},
   "outputs": [],
   "source": [
    "# create an ARIMA model using the best parameters from the grid serach\n",
    "arima_mod = sm.tsa.ARIMA(p1_raw_data['Variable_of Interest'], (10, 0, 2)).fit(disp=False)\n",
    "print(arima_mod.summary())"
   ]
  },
  {
   "cell_type": "code",
   "execution_count": null,
   "metadata": {},
   "outputs": [],
   "source": [
    "# check to see if residuals are a normal distribution\n",
    "resid = arima_mod.resid\n",
    "print(normaltest(resid))\n",
    "fig = plt.figure(figsize=(12,8))\n",
    "ax0 = fig.add_subplot(111)\n",
    "\n",
    "sns.distplot(resid ,fit = stats.norm, ax = ax0)\n",
    "\n",
    "# get the fitted parameters used by the function\n",
    "(mu, sigma) = stats.norm.fit(resid)\n",
    "\n",
    "# plot the distribution\n",
    "plt.legend(['Normal dist. ($\\mu=$ {:.2f} and $\\sigma=$ {:.2f} )'.format(mu, sigma)], loc='best')\n",
    "plt.ylabel('Frequency')\n",
    "plt.title('Residual distribution')\n",
    "\n",
    "# AC and PAC\n",
    "fig = plt.figure(figsize=(12,8))\n",
    "ax1 = fig.add_subplot(211)\n",
    "fig = sm.graphics.tsa.plot_acf(arima_mod.resid, lags=20, ax=ax1)\n",
    "ax2 = fig.add_subplot(212)\n",
    "fig = sm.graphics.tsa.plot_pacf(arima_mod.resid, lags=20, ax=ax2)"
   ]
  },
  {
   "cell_type": "code",
   "execution_count": null,
   "metadata": {},
   "outputs": [],
   "source": [
    "# next time step forcast\n",
    "arima_mod.forecast()[0]"
   ]
  },
  {
   "cell_type": "markdown",
   "metadata": {},
   "source": [
    "#### Summary and Results:\n",
    "- ARIMA(10, 0, 2) arrived at by minimizing the MSE\n",
    "- Resulting ARIMA model residuals have a good, normal distribution\n",
    "- Validated using the last 25% of the data with an MSE = 0.337\n",
    "\n",
    "#### Next Steps:\n",
    "- Create a predictor:\n",
    "    - Turn preprocessing into a function to ensure \"apples to apples\" predictions\n",
    "    - Use the built in predict() or forecast() functions to forecast future data\n",
    "- seasonal in 06-2019\n",
    "- 10th order AR overfitting?"
   ]
  },
  {
   "cell_type": "markdown",
   "metadata": {},
   "source": [
    "# P2\n",
    "\n",
    "Problem No.2 (Modified from https://www.kaggle.com/)\n",
    "\n",
    "Construct a binary classifier for historical data of patients who were diagnosed (or ruled out) from a heart disease. The data contains thirteen features and a target columns as follows:\n",
    "\n",
    "1. age      - age in years\n",
    "2. sex      - (male; female)\n",
    "3. cp       - chest pain type\n",
    "4. trestbps - resting blood pressure (in mm Hg on admission to the hospital)\n",
    "5. chol     - serum cholesterol in mg/dl\n",
    "6. fbs      - (fasting blood sugar > 120 mg/dl) (1 = true; 0 = false)\n",
    "7. restecg  - resting electrocardiographic results\n",
    "8. thalach  - maximum heart rate achieved\n",
    "9. exang    - exercise induced angina (1 = yes; 0 = no)\n",
    "10. oldpeak  - ST depression induced by exercise relative to rest\n",
    "11. slope    - the slope of the peak exercise ST segment\n",
    "12. ca       - number of major vessels (0-3) colored by fluoroscopy\n",
    "13. thal     - 3 = normal; 6 = fixed defect; 7 = reversable defect\n",
    "14. target   - have disease or not"
   ]
  },
  {
   "cell_type": "code",
   "execution_count": null,
   "metadata": {},
   "outputs": [],
   "source": [
    "# function to label encode categorical columns in a df\n",
    "def categorize_df(dataframe, cols):\n",
    "    le = preprocessing.LabelEncoder()\n",
    "    for col in cols:\n",
    "        dataframe[col] = le.fit_transform(dataframe[col])\n",
    "    return dataframe\n",
    "\n",
    "# function to normalize numerical columns in a df\n",
    "def normalize_df(dataframe, cols):\n",
    "    dataframe[cols] = preprocessing.normalize(dataframe[cols])\n",
    "    return dataframe\n",
    "\n",
    "# function to print an sklearn classification report\n",
    "def print_results(y_test, y_predict, cols):\n",
    "    plot_confusion_matrix(y_test, y_predict, cols)\n",
    "    print('\\n')\n",
    "    print(\"=== Classification Report ===\")\n",
    "    print(classification_report(y_test, y_predict))\n",
    "    print('\\n')\n",
    "    \n",
    "# function to create a confusion matrix for cotegorical predictions\n",
    "def plot_confusion_matrix(y_true, y_pred, cols, cmap=plt.cm.Blues):\n",
    "    # Compute confusion matrix\n",
    "    cm = confusion_matrix(y_true, y_pred)\n",
    "    fig, ax = plt.subplots()\n",
    "    im = ax.imshow(cm, interpolation='nearest', cmap=cmap)\n",
    "    ax.figure.colorbar(im, ax=ax)\n",
    "    # We want to show all ticks...\n",
    "    ax.set(xticks=np.arange(cm.shape[1]),\n",
    "           yticks=np.arange(cm.shape[0]),\n",
    "           xticklabels=cols, yticklabels=cols,\n",
    "           # ... and label them with the respective list entries\n",
    "           title='Confusion Matrix',\n",
    "           ylabel='True label',\n",
    "           xlabel='Predicted label')\n",
    "    # Rotate the tick labels and set their alignment.\n",
    "    plt.setp(ax.get_xticklabels(), rotation=45, ha=\"right\",\n",
    "             rotation_mode=\"anchor\")\n",
    "    # Loop over data dimensions and create text annotations.\n",
    "    fmt = '.2f'\n",
    "    thresh = cm.max() / 2.\n",
    "    for i in range(cm.shape[0]):\n",
    "        for j in range(cm.shape[1]):\n",
    "            ax.text(j, i, format(cm[i, j], fmt),\n",
    "                    ha=\"center\", va=\"center\",\n",
    "                    color=\"white\" if cm[i, j] > thresh else \"black\")\n",
    "    fig.tight_layout()\n",
    "    plt.show()\n",
    "    return ax\n",
    "\n",
    "def strat_k_folds(model_skfold,X, y):\n",
    "    skfold = model_selection.StratifiedKFold(n_splits = 4)\n",
    "    results_skfold = model_selection.cross_val_score(model_skfold, X, y, cv=skfold)\n",
    "    return results_skfold.mean()\n",
    "\n",
    "def plot_trend(n, mean_acc, x_title):\n",
    "    plt.plot(range(1,n),mean_acc,'g')\n",
    "    plt.ylabel('Accuracy ')\n",
    "    plt.xlabel(x_title)\n",
    "    plt.tight_layout()\n",
    "    plt.show()"
   ]
  },
  {
   "cell_type": "markdown",
   "metadata": {},
   "source": [
    "### Data Exploration and Prep\n",
    "\n",
    "- need to transpose the data on import\n",
    "- Check data types for each column in case everything imported as text\n",
    "- Check for whitespace and capitalization\n",
    "- check for missing data\n",
    "    - if small compared to sample size then remove\n",
    "- Check for outliers in numerical data\n",
    "    - if small compared to sample size then remove\n",
    "- Check for data balance in \"Disease\" and \"No Disease\" categories\n",
    "    - use over/under sampling if necessary\n",
    "- check the independance of the variables\n"
   ]
  },
  {
   "cell_type": "code",
   "execution_count": null,
   "metadata": {},
   "outputs": [],
   "source": [
    "# inverse data on import\n",
    "p2_raw_data = pd.read_excel('P2.xlsx', index_col=0, header=None).T\n",
    "p2_raw_data.head()"
   ]
  },
  {
   "cell_type": "code",
   "execution_count": null,
   "metadata": {},
   "outputs": [],
   "source": [
    "# check the data types\n",
    "p2_raw_data = p2_raw_data.drop(p2_raw_data.columns[0], axis=1)\n",
    "p2_raw_data.dtypes"
   ]
  },
  {
   "cell_type": "code",
   "execution_count": null,
   "metadata": {},
   "outputs": [],
   "source": [
    "# Check if 'slope' is a categorical column\n",
    "p2_raw_data['slope'].value_counts()"
   ]
  },
  {
   "cell_type": "code",
   "execution_count": null,
   "metadata": {},
   "outputs": [],
   "source": [
    "p2_raw_data['target'] = p2_raw_data['target'].replace('Disease', 1).replace('No disease', 0)\n",
    "p2_raw_data['target'].value_counts()"
   ]
  },
  {
   "cell_type": "code",
   "execution_count": null,
   "metadata": {},
   "outputs": [],
   "source": [
    "# check for missing data \n",
    "p2_raw_data.isna().sum()"
   ]
  },
  {
   "cell_type": "code",
   "execution_count": null,
   "metadata": {},
   "outputs": [],
   "source": [
    "# Only three missing data points so just remove\n",
    "p2_raw_data = p2_raw_data.dropna()"
   ]
  },
  {
   "cell_type": "code",
   "execution_count": null,
   "metadata": {},
   "outputs": [],
   "source": [
    "# convert numerical columns to type 'float' and convert all categorical columns to upper case\n",
    "numerical_columns = ['age','trestbps','chol','thalach','oldpeak',]\n",
    "categorical_columns = ['sex','cp','fbs','restecg','exang','slope','ca','thal','target']\n",
    "\n",
    "for n_col in numerical_columns:\n",
    "    p2_raw_data[n_col] = p2_raw_data[n_col].astype('float')\n",
    "\n",
    "for c_col in categorical_columns:\n",
    "    p2_raw_data[c_col] = p2_raw_data[c_col].astype('str').str.upper()"
   ]
  },
  {
   "cell_type": "code",
   "execution_count": null,
   "metadata": {},
   "outputs": [],
   "source": [
    "# normalize the numerical columns and encode the categorical columns\n",
    "p2_raw_data = categorize_df(p2_raw_data,categorical_columns)\n",
    "p2_raw_data = normalize_df(p2_raw_data,numerical_columns)\n",
    "p2_raw_data.head()"
   ]
  },
  {
   "cell_type": "code",
   "execution_count": null,
   "metadata": {},
   "outputs": [],
   "source": [
    "# identify outliers\n",
    "boxplot = p2_raw_data.boxplot(column = numerical_columns,figsize = (6,12))"
   ]
  },
  {
   "cell_type": "code",
   "execution_count": null,
   "metadata": {},
   "outputs": [],
   "source": [
    "# brute force drop of outliers - normally done non-visually\n",
    "for i in range(2):\n",
    "    p2_raw_data = p2_raw_data.drop(p2_raw_data['age'].idxmax())\n",
    "\n",
    "p2_raw_data = p2_raw_data.drop(p2_raw_data['trestbps'].idxmax())\n",
    "p2_raw_data = p2_raw_data.drop(p2_raw_data['trestbps'].idxmin())\n",
    "\n",
    "for i in range(2):\n",
    "    p2_raw_data = p2_raw_data.drop(p2_raw_data['chol'].idxmin())\n",
    "\n",
    "for i in range(4):\n",
    "    p2_raw_data = p2_raw_data.drop(p2_raw_data['oldpeak'].idxmax())"
   ]
  },
  {
   "cell_type": "code",
   "execution_count": null,
   "metadata": {},
   "outputs": [],
   "source": [
    "# check the independance of the variables\n",
    "pearsoncorr = p2_raw_data.corr(method='pearson')\n",
    "\n",
    "fig, ax = plt.subplots(figsize=(15,15)) \n",
    "sns.heatmap(pearsoncorr, \n",
    "            xticklabels=pearsoncorr.columns,\n",
    "            yticklabels=pearsoncorr.columns,\n",
    "            cmap='RdBu_r',\n",
    "            annot=True,\n",
    "            linewidth=0.5)"
   ]
  },
  {
   "cell_type": "code",
   "execution_count": null,
   "metadata": {},
   "outputs": [],
   "source": [
    "# separate the variables from the target and divide into training and test sets\n",
    "X = p2_raw_data.copy()\n",
    "y = X.pop('target').astype('int')\n",
    "x_col = X.columns\n",
    "X_train, X_test, y_train, y_test = train_test_split(X, y, train_size = .7)\n",
    "headers = ['No Disease','Disease']  "
   ]
  },
  {
   "cell_type": "markdown",
   "metadata": {},
   "source": [
    "### Classifiers\n",
    "\n",
    "-not using full hyperparameter searches\n",
    "- Logistic Regression with search for solver and c parameters (sequential)\n",
    "- SVC with search for kernal parameter\n",
    "- Random Forest  with search for max_depth and max_features parameters (sequential)"
   ]
  },
  {
   "cell_type": "markdown",
   "metadata": {},
   "source": [
    "### Logistic Regression"
   ]
  },
  {
   "cell_type": "code",
   "execution_count": null,
   "metadata": {},
   "outputs": [],
   "source": [
    "solv = ['newton-cg','lbfgs','liblinear']\n",
    "temp_acc_lr = 0\n",
    "temp_max_lr = ''\n",
    "for s in solv:\n",
    "    LR = LogisticRegression(C=0.25, solver=str(s))\n",
    "    acc = strat_k_folds(LR, X, y)\n",
    "    if acc > temp_acc_lr:\n",
    "        temp_acc_lr = acc\n",
    "        temp_max_lr = s\n",
    "print(\"The best accuracy was \", temp_acc_lr, \"with solver = \", temp_max_lr, '\\n') \n",
    "\n",
    "c_test = [.01,.05,.1,.15,.2,.25,.3,.35,.4,.45,.5]\n",
    "mean_acc_lr = np.zeros((len(c_test)-1))\n",
    "for c in range(len(c_test)):\n",
    "    LR = LogisticRegression(C = c_test[c], solver = str(temp_max_lr))\n",
    "    mean_acc_lr[c-1] = strat_k_folds(LR, X, y)\n",
    "    \n",
    "best_c = c_test[mean_acc_lr.argmax()+1]\n",
    "print( \"The best accuracy was \", mean_acc_lr.max(), \"with c = \", best_c, '\\n')\n",
    "\n",
    "log_reg = LogisticRegression(C = best_c, solver=str(temp_max_lr))\n",
    "log_reg.fit(X_train, y_train)\n",
    "\n",
    "y_pred_lr = log_reg.predict(X_test)\n",
    "y_pred_lr_acc = accuracy_score(y_test, y_pred_lr)\n",
    "print('\\n', 'Logistic regression accuracy_score: ', y_pred_lr_acc,'\\n')\n",
    "\n",
    "print_results(y_test, y_pred_lr, headers)\n",
    "table = log_reg.predict_proba(X_test)\n",
    "prediction_proba_lr = pd.DataFrame(table, columns = headers)"
   ]
  },
  {
   "cell_type": "markdown",
   "metadata": {},
   "source": [
    "### SVC"
   ]
  },
  {
   "cell_type": "code",
   "execution_count": null,
   "metadata": {},
   "outputs": [],
   "source": [
    "# hyperparameter search for best kernal\n",
    "kern = ['linear','poly','rbf','sigmoid']\n",
    "\n",
    "temp_acc_svm = 0\n",
    "temp_max_svm = ''\n",
    "for k in kern:\n",
    "    svc_clf = SVC(kernel=str(k),gamma='scale')\n",
    "    acc = strat_k_folds(svc_clf, X, y)\n",
    "    if acc > temp_acc_svm:\n",
    "        temp_acc_svm = acc\n",
    "        temp_max_svm = k\n",
    "        \n",
    "print(\"The best accuracy was \", temp_acc_svm, \"with kernel = \", temp_max_svm, '\\n')\n",
    "\n",
    "\n",
    "classifier_svc = SVC(kernel=str(temp_max_svm),gamma='scale')\n",
    "classifier_svc.fit(X_train, y_train)\n",
    "\n",
    "y_pred_svc = classifier_svc.predict(X_test)\n",
    "y_pred_svc_acc = accuracy_score(y_test, y_pred_svc)\n",
    "print('\\n', 'SVC accuracy_score: ', y_pred_svc_acc,'\\n')\n",
    "\n",
    "print_results(y_test, y_pred_svc, headers)"
   ]
  },
  {
   "cell_type": "markdown",
   "metadata": {},
   "source": [
    "### Random Forest"
   ]
  },
  {
   "cell_type": "code",
   "execution_count": null,
   "metadata": {},
   "outputs": [],
   "source": [
    "feat = 10\n",
    "mean_acc_dt = np.zeros((feat-1))\n",
    "\n",
    "for n_feat in range(1,feat):\n",
    "    #Train Model and Predict  \n",
    "    clf_rf = RandomForestClassifier(n_estimators = 300, criterion=\"entropy\", max_features = n_feat)\n",
    "    mean_acc_dt[n_feat-1] = strat_k_folds(clf_rf, X, y) \n",
    "\n",
    "plot_trend(feat, mean_acc_dt, 'Max Number of Features')\n",
    "best_feat = mean_acc_dt.argmax()+1\n",
    "print( \"The best accuracy was \", mean_acc_dt.max(), \"with max_features = \", best_feat, '\\n')\n",
    "\n",
    "dep = 15\n",
    "mean_acc_dt = np.zeros((dep-1))\n",
    "\n",
    "for n_dep in range(1,dep):\n",
    "    #Train Model and Predict  \n",
    "    clf_rf = RandomForestClassifier(n_estimators = 300, criterion=\"entropy\", max_features = best_feat, max_depth = n_dep)\n",
    "    mean_acc_dt[n_dep-1] = strat_k_folds(clf_rf, X, y) \n",
    "\n",
    "plot_trend(dep, mean_acc_dt, 'Max Tree Depth')\n",
    "best_dep = mean_acc_dt.argmax()+1\n",
    "print( 'The best accuracy was ', mean_acc_dt.max(),'with max_depth = ', best_dep, 'and max_features = ', best_feat,'\\n')\n",
    "\n",
    "# Random Forest\n",
    "classifier_rf = RandomForestClassifier(n_estimators = 300, criterion=\"entropy\", max_features = best_feat, max_depth = best_dep)\n",
    "classifier_rf.fit(X_train, y_train)\n",
    "\n",
    "\n",
    "y_pred = classifier_rf.predict(X_test)\n",
    "y_pred_rf_acc = accuracy_score(y_test, y_pred)\n",
    "print('\\n', 'RF accuracy_score: ', y_pred_rf_acc,'\\n')\n",
    "for feat, importance in zip(x_col, classifier_rf.feature_importances_):\n",
    "    print('%-25s : %20f' % (feat, importance))\n",
    "\n",
    "print_results(y_test, y_pred, headers)\n",
    "table = log_reg.predict_proba(X_test)\n",
    "prediction_proba_rf = pd.DataFrame(table, columns = headers)"
   ]
  },
  {
   "cell_type": "code",
   "execution_count": null,
   "metadata": {},
   "outputs": [],
   "source": [
    "# Choose between LR and RF for confidence testing:\n",
    "if y_pred_lr_acc > y_pred_rf_acc:\n",
    "    y_pred_proba = prediction_proba_lr.iloc[:,-1]\n",
    "    proba_list = list(prediction_proba_lr['Disease'])\n",
    "    print('The most accurate model is logistic regression with an accuracy of:', y_pred_lr_acc)\n",
    "else:\n",
    "    y_pred_proba = prediction_proba_rf.iloc[:,-1]\n",
    "    proba_list = list(prediction_proba_rf['Disease'])\n",
    "    print('The most accurate model is a random forest with an accuracy of:', y_pred_rf_acc)\n"
   ]
  },
  {
   "cell_type": "code",
   "execution_count": null,
   "metadata": {},
   "outputs": [],
   "source": [
    "fpr, tpr, _ = metrics.roc_curve(y_test,  y_pred_proba)\n",
    "auc = metrics.roc_auc_score(y_test, y_pred_proba)\n",
    "plt.plot(fpr,tpr,label=\"has disease, AUC = \"+str(auc))\n",
    "plt.legend(loc=4)\n",
    "\n",
    "plt.plot(range(2),linestyle = '--')\n",
    "plt.xlabel(\"False Positive Rate - specificity\")\n",
    "plt.ylabel(\"True Positive Rate - sensitivity\")\n",
    "\n",
    "plt.show()"
   ]
  },
  {
   "cell_type": "code",
   "execution_count": null,
   "metadata": {},
   "outputs": [],
   "source": [
    "counts, bins = np.histogram(y_pred_proba)\n",
    "plt.hist(bins[:-1], bins, weights=counts)"
   ]
  },
  {
   "cell_type": "code",
   "execution_count": null,
   "metadata": {
    "scrolled": true
   },
   "outputs": [],
   "source": [
    "X_test['Disease'] = proba_list\n",
    "        \n",
    "proba_list = [round(num) for num in proba_list]\n",
    "X_test['predicted_result'] = proba_list\n",
    "\n",
    "result_list = list(y_test)\n",
    "X_test['actual_result'] = result_list\n",
    "\n",
    "X_test['logic'] = np.where(X_test['actual_result'] == X_test['predicted_result'], 1, 0) \n",
    "\n",
    "X_test['TP'] = np.where((X_test['actual_result'] == 1) & (X_test['predicted_result'] == 1), 1, 0) \n",
    "X_test['FP'] = np.where((X_test['actual_result'] == 0) & (X_test['predicted_result'] == 1), 1, 0) \n",
    "X_test['TN'] = np.where((X_test['actual_result'] == 0) & (X_test['predicted_result'] == 0), 1, 0) \n",
    "X_test['FN'] = np.where((X_test['actual_result'] == 1) & (X_test['predicted_result'] == 0), 1, 0) \n",
    "\n",
    "\n",
    "\n",
    "print(X_test[['Disease','actual_result','logic','TP','FP','TN','FN']])"
   ]
  },
  {
   "cell_type": "code",
   "execution_count": null,
   "metadata": {},
   "outputs": [],
   "source": [
    "for x in range(50, 101, 5):\n",
    "    X_test_temp = X_test[(X_test['Disease'] > x/100)|(X_test['Disease'] < (1-x/100))]\n",
    "    # change to df to look better if there is time\n",
    "    print('%.2f : %s : %.4f : %s : %s : %s : %s' %(x/100,len(X_test_temp),X_test_temp['logic'].mean(),X_test_temp['TP'].sum(),X_test_temp['FP'].sum(),X_test_temp['TN'].sum(),X_test_temp['FN'].sum()))"
   ]
  },
  {
   "cell_type": "markdown",
   "metadata": {},
   "source": [
    "#### Summary and Results:\n",
    "\n",
    "- The Random Forest model provided the best accuracy with a score of 0.885\n",
    "    - max_features = 2, max_depth = 4, trees = 300\n",
    "- Validated using 30% of the initial data set\n",
    "    - AUC approximately equal to 0.92\n",
    "    - F1 approximately 0.85\n",
    "\n",
    "#### Discussion\n",
    "For this particular problem, predicting whether someone has a disease, the main diagnosis to avoid would be a false negative, telling someone they are fine when they are not. In light of this, choosing an acceptable false positive rate and then operating within the confidence interval to achieve it will be very important during selection of operating parameters. For example, at a confidence interval of 70% in the above example, we not longer have any false negatives. People who are not within the interval will simply get an \"inconclusive\". Additionally, models that do not offer a probability in the predictin (SVC) my not be able to be used.\n",
    "\n",
    "#### Next Steps:\n",
    "- Check results in removing highly correlated data\n",
    "    - thalach and chol with at -0.82\n",
    "    - chol and tresbps with at -0.67\n",
    "- More thorough grid serach to determice hyperparameters\n",
    "- Create a predictor:\n",
    "    - Turn preprocessing into a function to ensure \"apples to apples\" predictions\n",
    "    - Use the built in predict() functions to analyze new patients for risk\n",
    "- Get more data - large number of parameters for this many samples (partner with other organizations to standardize and combine data)\n",
    "- Odd probability distribution, check for information leakage in the data being passed to the model"
   ]
  },
  {
   "cell_type": "markdown",
   "metadata": {},
   "source": [
    "# P3\n",
    "\n",
    "Imagine you’re advising a store manager who oversees the home & kitchen department and you are given a customer review data. What insights can you drive from this data which will help improve the business?\n",
    "\n",
    "Data prep:\n",
    "- Check if ID is based on user or review (can we draw any individual user conclusions)\n",
    "- Drop reviews with no text\n",
    "- Prep review text:\n",
    "    - Change to all lowercase\n",
    "    - Remove all the special characters and numbers\n",
    "    - Lemmatize and stem each word\n",
    "    - Remove short words (length < 3)\n",
    "    - Remove stopwords from the text\n",
    "- Check DATE for format datetime for time analysis\n",
    "\n",
    "Ideas:\n",
    "- Time analysis of scores and total ratings\n",
    "- Analyze text from the good scores (5) and bad scores (1, 2) separately to try and draw conclusions about general content using bigrams\n",
    "- Use LDA to group the reviews and look at the top words from each group to try and for drawing conclusions"
   ]
  },
  {
   "cell_type": "code",
   "execution_count": null,
   "metadata": {},
   "outputs": [],
   "source": [
    "# function to reduce words in a text block to the stem\n",
    "def stem_sentences(text):\n",
    "    stemmer = WordNetLemmatizer()\n",
    "    tokens = text.split()\n",
    "    stemmed = [stemmer.lemmatize(token) for token in tokens]\n",
    "    return ' '.join(stemmed)\n",
    "\n",
    "# function to remove stop words (common words)\n",
    "def remove_stopwords(text):\n",
    "    text_new = \" \".join([i for i in text if i not in stop_words])\n",
    "    return text_new\n",
    "\n",
    "# function to filter for nouns and adjectives \n",
    "def lemmatization(texts, tags=['NOUN', 'ADJ']): \n",
    "       output = []\n",
    "       for sent in texts:\n",
    "             doc = nlp(\" \".join(sent)) \n",
    "             output.append([token.lemma_ for token in doc if token.pos_ in tags])\n",
    "       return output"
   ]
  },
  {
   "cell_type": "code",
   "execution_count": null,
   "metadata": {},
   "outputs": [],
   "source": [
    "p3_raw_data = pd.read_excel('P3.xlsx')\n",
    "p3_raw_data.head()"
   ]
  },
  {
   "cell_type": "code",
   "execution_count": null,
   "metadata": {},
   "outputs": [],
   "source": [
    "# what % of the ID's are unique - review ID or user ID?\n",
    "len(p3_raw_data['ID'].unique())/len(p3_raw_data)"
   ]
  },
  {
   "cell_type": "code",
   "execution_count": null,
   "metadata": {},
   "outputs": [],
   "source": [
    "# set ID as the index for future analysis and rename columns\n",
    "p3_raw_data = p3_raw_data.set_index(['ID'])\n",
    "p3_raw_data = p3_raw_data.rename(columns={'Customer Rating (5-Best, 1-Worst)': 'cust_rating', 'Review Text': 'review_text', 'Review Date':'review_date'})\n",
    "p3_raw_data.dtypes"
   ]
  },
  {
   "cell_type": "code",
   "execution_count": null,
   "metadata": {},
   "outputs": [],
   "source": [
    "# check for missing reviews\n",
    "p3_raw_data.isna().sum()"
   ]
  },
  {
   "cell_type": "code",
   "execution_count": null,
   "metadata": {},
   "outputs": [],
   "source": [
    "# 3/5000 reviews missing so just drop them\n",
    "p3_raw_data = p3_raw_data.dropna()"
   ]
  },
  {
   "cell_type": "code",
   "execution_count": null,
   "metadata": {},
   "outputs": [],
   "source": [
    "# convert review_date to a datetime format\n",
    "p3_raw_data['review_date'] = pd.to_datetime(p3_raw_data['review_date'])\n",
    "p3_raw_data['review_date'].head()"
   ]
  },
  {
   "cell_type": "markdown",
   "metadata": {},
   "source": [
    "### Text Prep"
   ]
  },
  {
   "cell_type": "code",
   "execution_count": null,
   "metadata": {},
   "outputs": [],
   "source": [
    "# Change to all lowercase\n",
    "p3_raw_data['review_text'] = p3_raw_data['review_text'].str.lower()\n",
    "# Remove all the special characters and numbers\n",
    "p3_raw_data['review_text'] = p3_raw_data['review_text'].str.replace(\"[^a-zA-Z#]\", \" \")\n",
    "# Lemmatize and stem each word\n",
    "p3_raw_data['review_text'] = p3_raw_data['review_text'].map(lambda x: stem_sentences(x))\n",
    "# Remove short words (length < 3)\n",
    "p3_raw_data['review_text'] = p3_raw_data['review_text'].apply(lambda x: ' '.join([w for w in x.split() if len(w)>2]))\n",
    "# Remove stopwords from the text\n",
    "p3_raw_data['review_text'] = [remove_stopwords(r.split()) for r in p3_raw_data['review_text']]\n",
    "\n",
    "p3_raw_data.head()"
   ]
  },
  {
   "cell_type": "code",
   "execution_count": null,
   "metadata": {},
   "outputs": [],
   "source": [
    "# new columns for grouping\n",
    "p3_raw_data['review_year'] = p3_raw_data['review_date'].dt.year\n",
    "p3_raw_data['review_month'] = p3_raw_data['review_date'].dt.month\n",
    "p3_raw_data[['review_date','review_year','review_month']].head()"
   ]
  },
  {
   "cell_type": "markdown",
   "metadata": {},
   "source": [
    "### Yearly/Monthly Analysis of Review Count and Rating"
   ]
  },
  {
   "cell_type": "code",
   "execution_count": null,
   "metadata": {},
   "outputs": [],
   "source": [
    "ax = p3_raw_data['cust_rating'].value_counts().plot(kind='bar',title='Review Count')\n",
    "ax.set_xlabel('Review Score')\n",
    "ax.set_ylabel('Count')\n",
    "plt.show()\n",
    "print('Overall customer rating average: %.2f' % (p3_raw_data['cust_rating'].mean()))"
   ]
  },
  {
   "cell_type": "code",
   "execution_count": null,
   "metadata": {},
   "outputs": [],
   "source": [
    "# Look at the monthly trend\n",
    "fig = plt.figure(figsize=(20,5)) # not working correctly?\n",
    "p3_raw_data_monthly_ave = p3_raw_data.groupby(by=[p3_raw_data['review_year'], p3_raw_data['review_month']]).mean()\n",
    "p3_raw_data_monthly_ave.plot()\n",
    "plt.title('Average Monthly Rating')\n",
    "plt.show()"
   ]
  },
  {
   "cell_type": "code",
   "execution_count": null,
   "metadata": {},
   "outputs": [],
   "source": [
    "# Look at the yearly trend\n",
    "fig = plt.figure(figsize=(20,5)) # not working correctly?\n",
    "p3_raw_data_yearly_ave = p3_raw_data.groupby(by=[p3_raw_data['review_year']]).mean()\n",
    "p3_raw_data_yearly_ave = p3_raw_data_yearly_ave.drop(columns = ['review_month'])\n",
    "p3_raw_data_yearly_ave.plot()\n",
    "plt.title('Average Yearly Rating')\n",
    "plt.show()"
   ]
  },
  {
   "cell_type": "code",
   "execution_count": null,
   "metadata": {},
   "outputs": [],
   "source": [
    "# Look at the monthly trend\n",
    "fig = plt.figure(figsize=(20,5))\n",
    "p3_raw_data_monthly_cnt = p3_raw_data.groupby(['review_year','review_month'])['review_text'].count()\n",
    "p3_raw_data_monthly_cnt.plot()\n",
    "plt.title('Monthly Rating Count')\n",
    "plt.show()"
   ]
  },
  {
   "cell_type": "code",
   "execution_count": null,
   "metadata": {},
   "outputs": [],
   "source": [
    "# 2014 dip? assume that the number of reviews it representative of the number of purchases?\n",
    "p3_raw_data_monthly_cnt"
   ]
  },
  {
   "cell_type": "code",
   "execution_count": null,
   "metadata": {},
   "outputs": [],
   "source": [
    "# Look at the yearly trend\n",
    "fig= plt.figure(figsize=(20,5))\n",
    "p3_raw_data_yearly_cnt = p3_raw_data.groupby(['review_year'])['review_text'].count()\n",
    "p3_raw_data_yearly_cnt.plot()\n",
    "plt.title('Yearly Rating Count')\n",
    "plt.show()"
   ]
  },
  {
   "cell_type": "code",
   "execution_count": null,
   "metadata": {},
   "outputs": [],
   "source": [
    "#count_vect = CountVectorizer(max_df=0.8, min_df=2, stop_words='english')\n",
    "#doc_term_matrix = count_vect.fit_transform(p3_raw_data['review_text'].values.astype('U'))\n",
    "\n",
    "tfidfconverter = TfidfVectorizer(min_df=5, max_df=0.6, stop_words=stopwords.words('english')) \n",
    "\n",
    "p3_raw_data_bad = p3_raw_data[p3_raw_data['cust_rating'] <= 2]\n",
    "p3_raw_data_good = p3_raw_data[p3_raw_data['cust_rating'] == 5]\n",
    "\n",
    "print('total count: ', len(p3_raw_data))\n",
    "\n",
    "print('1 and 2 review count: ', len(p3_raw_data_bad))\n",
    "print('5-review count: ', len(p3_raw_data_good))"
   ]
  },
  {
   "cell_type": "markdown",
   "metadata": {},
   "source": [
    "### Bi-grams for good reviews"
   ]
  },
  {
   "cell_type": "code",
   "execution_count": null,
   "metadata": {},
   "outputs": [],
   "source": [
    "# Getting bigrams  \n",
    "vectorizer_2 = CountVectorizer(ngram_range =(3, 3)) \n",
    "X1_2 = vectorizer_2.fit_transform(p3_raw_data_good['review_text'])  \n",
    "features_2 = (vectorizer_2.get_feature_names()) \n",
    "\n",
    "# TFIDF \n",
    "vectorizer_2 = TfidfVectorizer(max_df = 0.8, stop_words=stopwords.words('english'), ngram_range = (3, 3)) \n",
    "X2_2 = vectorizer_2.fit_transform(p3_raw_data_good['review_text']) \n",
    "scores_2 = (X2_2.toarray()) \n",
    "  \n",
    "# Getting top ranking features \n",
    "sums_2 = X2_2.sum(axis = 0) \n",
    "data1_2 = [] \n",
    "for col, term in enumerate(features_2): \n",
    "    data1_2.append( (term, sums_2[0, col] )) \n",
    "ranking_2 = pd.DataFrame(data1_2, columns = ['term', 'rank']) \n",
    "words_2 = (ranking_2.sort_values('rank', ascending = False)) \n",
    "print (\"\\n\\nWords : \\n\", words_2.head(20))"
   ]
  },
  {
   "cell_type": "markdown",
   "metadata": {},
   "source": [
    "### Bi-grams for bad reviews"
   ]
  },
  {
   "cell_type": "code",
   "execution_count": null,
   "metadata": {},
   "outputs": [],
   "source": [
    "# Getting bigrams  \n",
    "vectorizer = CountVectorizer(ngram_range =(3, 3)) \n",
    "X1 = vectorizer.fit_transform(p3_raw_data_bad['review_text'])  \n",
    "features = (vectorizer.get_feature_names()) \n",
    "\n",
    "# TFIDF \n",
    "vectorizer = TfidfVectorizer(max_df = 0.8, stop_words=stopwords.words('english'), ngram_range = (3, 3)) \n",
    "X2 = vectorizer.fit_transform(p3_raw_data_bad['review_text']) \n",
    "scores = (X2.toarray()) \n",
    "  \n",
    "# Getting top ranking features \n",
    "sums = X2.sum(axis = 0) \n",
    "data1 = [] \n",
    "for col, term in enumerate(features): \n",
    "    data1.append( (term, sums[0, col] )) \n",
    "ranking = pd.DataFrame(data1, columns = ['term', 'rank']) \n",
    "words = (ranking.sort_values('rank', ascending = False)) \n",
    "print (\"\\n\\nWords : \\n\", words.head(20))"
   ]
  },
  {
   "cell_type": "markdown",
   "metadata": {},
   "source": [
    "### LDA"
   ]
  },
  {
   "cell_type": "code",
   "execution_count": null,
   "metadata": {},
   "outputs": [],
   "source": [
    "# convert using tfidf - a combination of word frequency and inverse document frequency\n",
    "doc_term_matrix_bad = tfidfconverter.fit_transform(p3_raw_data_bad['review_text'].values.astype('U'))\n",
    "doc_term_matrix_good = tfidfconverter.fit_transform(p3_raw_data_good['review_text'].values.astype('U'))"
   ]
  },
  {
   "cell_type": "markdown",
   "metadata": {},
   "source": [
    "### LDA for positive reviews"
   ]
  },
  {
   "cell_type": "code",
   "execution_count": null,
   "metadata": {},
   "outputs": [],
   "source": [
    "LDA_good = LatentDirichletAllocation(n_components=10)\n",
    "LDA_good.fit(doc_term_matrix_good)"
   ]
  },
  {
   "cell_type": "code",
   "execution_count": null,
   "metadata": {},
   "outputs": [],
   "source": [
    "# print the top ten words for each grouping\n",
    "for i,topic in enumerate(LDA_good.components_):\n",
    "    print(f'Top 10 words for topic #{i}:')\n",
    "    print([tfidfconverter.get_feature_names()[i] for i in topic.argsort()[-10:]])\n",
    "    print('\\n')"
   ]
  },
  {
   "cell_type": "markdown",
   "metadata": {},
   "source": [
    "### LDA for negative reviews"
   ]
  },
  {
   "cell_type": "code",
   "execution_count": null,
   "metadata": {},
   "outputs": [],
   "source": [
    "LDA_bad = LatentDirichletAllocation(n_components = 10)\n",
    "LDA_bad.fit(doc_term_matrix_bad)"
   ]
  },
  {
   "cell_type": "code",
   "execution_count": null,
   "metadata": {},
   "outputs": [],
   "source": [
    "for i,topic in enumerate(LDA_bad.components_):\n",
    "    print(f'Top 10 words for topic #{i}:')\n",
    "    print([tfidfconverter.get_feature_names()[i] for i in topic.argsort()[-10:]])\n",
    "    print('\\n')"
   ]
  },
  {
   "cell_type": "markdown",
   "metadata": {},
   "source": [
    "#### Summary and Results:\n",
    "- Customer ratings overwhelmingly positive with an overall average of 4.49\n",
    "- As more reviews have come in the average has stabilized at this high standard\n",
    "- The total number of reviews seemed to have exponential growth until 2014\n",
    "    - Are number of reviews representative of sales? If so, why have sales dropped off so drastically in the first months of 2014\n",
    "    - Exponential growth took a hit in the second half of 2013\n",
    "- Bi-grams for positive reviews\n",
    "    - Oxo products are very well thought of\n",
    "    - ice cream makers\n",
    "- Bi-grams for negative reviews\n",
    "    - products: Oxo good grip, ice cream scoop, ice cube tray, apple corer divider\n",
    "    - Common topics of materials used for product - flimsy, separated, etc.\n",
    "- LDA for positive reviews\n",
    "    - Products: potato mashers, pressure cookers, sifters/strainers, spatula/scrapers, peeler/knives, ice cream makers, lemon zesters, wisks, vaccuums\n",
    "- LDA for negative reviews\n",
    "    - Products: corkscrews, baskets\n",
    "    - Pain points: missing deliveries, items broken upon reciept, difficulties dealing with manufacturers\n",
    "- No missing rating, so we can assume any sentiment analysis would be very closly related to these scores\n",
    "\n",
    "#### Discussion\n",
    "An issue with using unsupervised learning on all the product reviews is that creating groups (an unknown number) is very difficult to interpret. If more information on the product ID or the user ID was contained, I feel as though much more meaningful insights could be found. \n",
    "\n",
    "Based on the analysis above, I assume that positive experiences will lead to additional purchases. So, the products most well reviewed (through bigrams and LDA) should be promoted. Similarly, products showing up consitently in the bad reviews should appear lower in search results or be removed altogether. That ebing said, all of the text analysis does not take into account the number of times a product has been purchased, which would cause it to show up in both the good and bad lists (e.g. Oxo).\n",
    "The pain points identified from the negative reviews, however, are common across all products and a deeper dive into those issues could possibly lead to better packaging, delivery confirmation, etc.\n",
    "\n",
    "#### Next Steps:\n",
    "- Label the data by product ID, pain ponts, and user by either beginning to collect this information with new reviews or labeling the existing data by hand\n",
    "    - product trends in number and rating\n",
    "    - suggested purchases by user\n",
    "    - allows for a more in depth analysis of reviews once words common to product lines are accounted for (e.g. Oxo shows up many times in the results, but may refer to several products)\n",
    "- A/B testing to see if product promotion drives users towards the more highly reviewed products\n",
    "- Determine the cause of dropping review count but increasing rating and check how that relates to sales?\n",
    "    - new competitor\n",
    "    - market trends\n",
    "- Tune the model to achieve better results: tune corpus more strictly, limit included reviews by length, more thorough analysis of number of topics, tune hyperparameters, etc.    "
   ]
  },
  {
   "cell_type": "code",
   "execution_count": null,
   "metadata": {},
   "outputs": [],
   "source": []
  }
 ],
 "metadata": {
  "kernelspec": {
   "display_name": "Python 3",
   "language": "python",
   "name": "python3"
  },
  "language_info": {
   "codemirror_mode": {
    "name": "ipython",
    "version": 3
   },
   "file_extension": ".py",
   "mimetype": "text/x-python",
   "name": "python",
   "nbconvert_exporter": "python",
   "pygments_lexer": "ipython3",
   "version": "3.7.1"
  }
 },
 "nbformat": 4,
 "nbformat_minor": 4
}
